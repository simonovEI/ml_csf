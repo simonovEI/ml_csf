{
 "cells": [
  {
   "cell_type": "markdown",
   "metadata": {},
   "source": [
    "# Задание 4. Распознавание образов, описываемых бинарными признаками"
   ]
  },
  {
   "cell_type": "markdown",
   "metadata": {},
   "source": [
    "## Написать код, реализующий алгоритм распознавания бинарных образов символов, соответствующих первым буквам фамилии и имени исполнителя: E S"
   ]
  },
  {
   "cell_type": "markdown",
   "metadata": {},
   "source": [
    "### 0. Библиотеки и вспомогательные методы"
   ]
  },
  {
   "cell_type": "code",
   "execution_count": 1,
   "metadata": {
    "collapsed": true
   },
   "outputs": [],
   "source": [
    "import numpy as np\n",
    "import math\n",
    "from scipy.stats import binom\n",
    "import matplotlib.pyplot as plt"
   ]
  },
  {
   "cell_type": "code",
   "execution_count": 2,
   "metadata": {
    "collapsed": true
   },
   "outputs": [],
   "source": [
    "def draw_letter(letter, title):\n",
    "    plt.imshow(letter)\n",
    "    plt.suptitle(title)\n",
    "    plt.show()"
   ]
  },
  {
   "cell_type": "markdown",
   "metadata": {},
   "source": [
    "### 1. Задание исходных данных"
   ]
  },
  {
   "cell_type": "code",
   "execution_count": 3,
   "metadata": {
    "collapsed": true
   },
   "outputs": [],
   "source": [
    "alphabet=np.zeros([35, 26])\n",
    "#буква E\n",
    "alphabet[:,4]=[1,1,1,1,1,1,0,0,0,0,1,0,0,0,0,1,1,1,1,0,1,0,0,0,0,1,0,0,0,0,1,1,1,1,1]\n",
    "#буква S\n",
    "alphabet[:,18]=[0,1,1,1,0,1,0,0,0,1,0,1,0,0,0,0,0,1,0,0,0,0,0,1,0,1,0,0,0,1,0,1,1,1,0]"
   ]
  },
  {
   "cell_type": "code",
   "execution_count": 4,
   "metadata": {
    "collapsed": true
   },
   "outputs": [],
   "source": [
    "###[alphabet,targets]=prprob;%загрузка бинарных стандартных изображений букв \n",
    "n=35 #количество признаков (исходя из размера изображений)\n",
    "M=2 #количество классов\n",
    "s=np.zeros([n,2]) #эталонные описания\n",
    "s[:,0]=alphabet[:,4] #буква E \n",
    "s[:,1]=alphabet[:,18] #буква S\n",
    "pw=[0.3,0.7] #априорные вероятности гипотез\n",
    "N=20 #количество шагов изменения варьируемого параметра - pi\n",
    "K=1000 #количество реализаций\n",
    "ns=np.sum(abs(s[:,0]-s[:,1])) #общее количество несовпадающих элементов\n",
    "s_=1-s #получение инвертированных изображений\n",
    "pi=np.zeros(N)\n",
    "p12th=np.array(pi)\n",
    "p21th=np.array(pi)\n",
    "p12ex=np.array(pi)\n",
    "p21ex=np.array(pi)\n",
    "Pc_=np.zeros([N,2,2]) #экспериментальная матрица вероятностей ошибок"
   ]
  },
  {
   "cell_type": "code",
   "execution_count": 5,
   "metadata": {
    "scrolled": false
   },
   "outputs": [
    {
     "data": {
      "image/png": "[encoded data removed]",
      "text/plain": [
       "<matplotlib.figure.Figure at 0x24b9a783860>"
      ]
     },
     "metadata": {},
     "output_type": "display_data"
    },
    {
     "data": {
      "image/png": "[encoded data removed]",
      "text/plain": [
       "<matplotlib.figure.Figure at 0x24b9a7837f0>"
      ]
     },
     "metadata": {},
     "output_type": "display_data"
    }
   ],
   "source": [
    "draw_letter(np.reshape(s[:,0], (7, 5)), 'Бинарная матрица буквы E')\n",
    "draw_letter(np.reshape(s[:,1], (7, 5)), 'Бинарная матрица буквы S')"
   ]
  },
  {
   "cell_type": "code",
   "execution_count": 6,
   "metadata": {
    "collapsed": true
   },
   "outputs": [],
   "source": [
    "#Цикл по значениям вероятности искажения элементов символов\n",
    "for i in range(N):\n",
    "    pi[i]=(1/N)*i\n",
    "    pI=pi[i] #вероятность искажения элемента (пикселя)"
   ]
  },
  {
   "cell_type": "markdown",
   "metadata": {},
   "source": [
    "### 2. Синтез решающего правила и расчет теоретических вероятностей ошибок"
   ]
  },
  {
   "cell_type": "code",
   "execution_count": 7,
   "metadata": {},
   "outputs": [],
   "source": [
    "#регуляризация разделяющей функции\n",
    "for i in range(N):\n",
    "    if pI==0:\n",
    "        pI=0.0001\n",
    "    if pI==0.5:\n",
    "        pI=0.4999\n",
    "    pI_=1-pI\n",
    "    G1=np.zeros(n)\n",
    "    G2=np.zeros(n)\n",
    "    #вычисление коэффициентов разделяющей функции\n",
    "    for k in range(n):\n",
    "        G1[k]=np.log((s[k,0]*pI_+s_[k,0]*pI)/(s[k,1]*pI_+s_[k,1]*pI))\n",
    "        G2[k]=np.log((s[k,0]*pI+s_[k,0]*pI_)/(s[k,1]*pI+s_[k,1]*pI_))\n",
    "    l0_=np.log(pw[1]/pw[0]) #порог принятия решения\n",
    "    L0=np.log(pw[1]/pw[0])/(2*np.log(pI_)-2*np.log(pI))+ns/2\n",
    "    L0r=math.floor(L0)\n",
    "    #расчет вероятностей ошибок \n",
    "    if pI<0.5:\n",
    "        p12th[i]=binom.cdf(L0r,ns,pI_)\n",
    "        p21th[i]=1-binom.cdf(L0r,ns,pI)\n",
    "    else:\n",
    "        p12th[i]=1-binom.cdf(L0r,ns,pI_)\n",
    "        p21th[i]=binom.cdf(L0r,ns,pI)\n",
    "    #косяк: p12th и p21th всегда зависят от (L0r,ns,pI_), а это константы.\n",
    "    #соответсвенно, в p12th и p21th все числа одинаковые. у сироты-разные "
   ]
  },
  {
   "cell_type": "markdown",
   "metadata": {},
   "source": [
    "### 3.Тестирование алгоритма методом статистических испытаний"
   ]
  },
  {
   "cell_type": "code",
   "execution_count": 8,
   "metadata": {
    "scrolled": false
   },
   "outputs": [
    {
     "data": {
      "image/png": "[encoded data removed]",
      "text/plain": [
       "<matplotlib.figure.Figure at 0x24b9aa1f7f0>"
      ]
     },
     "metadata": {},
     "output_type": "display_data"
    },
    {
     "data": {
      "image/png": "[encoded data removed]",
      "text/plain": [
       "<matplotlib.figure.Figure at 0x24b9a938ef0>"
      ]
     },
     "metadata": {},
     "output_type": "display_data"
    }
   ],
   "source": [
    "for i in range(N):\n",
    "    for k in range(K): #цикл по числу реализаций\n",
    "        for m in range(M): #цикл по классам\n",
    "            x=s[:,m]\n",
    "            r=np.random.rand(n)\n",
    "            ir=[]\n",
    "            for j in range(len(r)):\n",
    "                if r[j]<pI:\n",
    "                    ir.append(j)\n",
    "            #инверсия в точках, в которых вероятность искажения меньше, чем pI (0.95)\n",
    "            for j in range(len(ir)):\n",
    "                x[j]=1-x[j]            \n",
    "            #возврат в начальное состояние всех точек. \n",
    "            #искаженные ранее точки примут исходное состояние. \n",
    "            #неискаженые ранее, станут искажеными. \n",
    "            #в итоге искаженых точек получится мало, в среднем-5% (все, у кого r>=0.95)\n",
    "            x_=np.array(x)\n",
    "            for j in range(len(x)):\n",
    "                x_[j]=1-x[j]\n",
    "            u=np.dot(G1,x)+np.dot(G2,x_)-l0_ #вычисление значения разделяющих функций\n",
    "            if u>0:\n",
    "                iai=0\n",
    "            else: \n",
    "                iai=1\n",
    "            Pc_[i,m,iai]=Pc_[i,m,iai]+1 #фиксация результата распознавания\n",
    "            #отображение примеров искажения символов (вариаций искажения очень много, мы рисуем только одну из них)\n",
    "            if ((k==0) and (i==1)):\n",
    "                draw_letter(np.reshape(x_,(7,5)), 'Бинарная матрица искаженной буквы')\n",
    "    Pc_[i,:,:]=Pc_[i,:,:]/K\n",
    "    p12ex[i]=Pc_[i,0,1]\n",
    "    p21ex[i]=Pc_[i,1,0]"
   ]
  },
  {
   "cell_type": "markdown",
   "metadata": {},
   "source": [
    "### 4.Визуализация результата в виде графиков вероятностей ошибок"
   ]
  },
  {
   "cell_type": "code",
   "execution_count": 9,
   "metadata": {},
   "outputs": [
    {
     "data": {
      "image/png": "[encoded data removed]",
      "text/plain": [
       "<matplotlib.figure.Figure at 0x24b9aa04dd8>"
      ]
     },
     "metadata": {},
     "output_type": "display_data"
    }
   ],
   "source": [
    "plt.plot(pi,p12th,'-b', label='p12th')\n",
    "plt.plot(pi,p21th,'-r', label='p21th')\n",
    "plt.plot(pi,p12ex,'--ok', label='p12ex')\n",
    "plt.plot(pi,p21ex,'--^k', label='p21ex')\n",
    "plt.title('Теоретические вероятности ошибок и их оценки')\n",
    "plt.xlabel('pi')\n",
    "plt.ylabel('P')\n",
    "plt.legend(bbox_to_anchor=(1, 1), labels=['p12th', 'p21th', 'p12ex', 'p21ex'])\n",
    "plt.show()"
   ]
  }
 ],
 "metadata": {
  "kernelspec": {
   "display_name": "Python 3",
   "language": "python",
   "name": "python3"
  },
  "language_info": {
   "codemirror_mode": {
    "name": "ipython",
    "version": 3
   },
   "file_extension": ".py",
   "mimetype": "text/x-python",
   "name": "python",
   "nbconvert_exporter": "python",
   "pygments_lexer": "ipython3",
   "version": "3.6.1"
  }
 },
 "nbformat": 4,
 "nbformat_minor": 2
}
