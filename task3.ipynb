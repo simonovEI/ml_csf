{
 "cells": [
  {
   "cell_type": "markdown",
   "metadata": {},
   "source": [
    "# Задание 3. Распознавание образов, описываемых гауссовскими случайными векторами с разными матрицами ковариаций"
   ]
  },
  {
   "attachments": {
    "image.png": {
     "image/png": "[encoded data removed]"
    }
   },
   "cell_type": "markdown",
   "metadata": {},
   "source": [
    "![image.png](attachment:image.png)"
   ]
  },
  {
   "cell_type": "markdown",
   "metadata": {},
   "source": [
    "### 1. Задание исходных данных"
   ]
  },
  {
   "cell_type": "code",
   "execution_count": 200,
   "metadata": {
    "collapsed": true
   },
   "outputs": [],
   "source": [
    "import numpy as np\n",
    "np.set_printoptions(precision= 5, suppress=False)"
   ]
  },
  {
   "cell_type": "code",
   "execution_count": 201,
   "metadata": {},
   "outputs": [],
   "source": [
    "n = 2 #размерность признакового пространства\n",
    "M = 3 #число классов\n",
    "K = 10000 #количество статистических испытаний\n",
    "dm = 2 #расстояние между матожиданиями вдоль координатных осей\n",
    "pw = np.array([0.33, 0.34, 0.33]) #априорные вероятности классов\n",
    "m = dm*np.matrix([[5, -1, -10], [-1, 4, 2]]) #матожидания (записаны как у Сироты)\n",
    "C = np.array([[[8,6,3],[-1,2,1]], [[-1,2,1],[8,6,3]]]) #матрица ковариаций\n",
    "C_ = np.zeros([n, n, M]) #матрица, обратная к матрице ковариаций\n",
    "for i in range(M):\n",
    "    C_[:,:, i]=np.linalg.inv(C[:,:,i])\n",
    "D = np.array([[3, 1, 1], [1, 1, 5]])  #дисперсия (записано как у Сироты)"
   ]
  },
  {
   "cell_type": "code",
   "execution_count": 202,
   "metadata": {
    "collapsed": true
   },
   "outputs": [],
   "source": [
    "from numpy.linalg import cholesky\n",
    "#Функция генерации совокупности гауссовских случайных векторов \n",
    "#с нулевым математическим ожиданием и матрицей ковариации С\n",
    "#n-исходный порядок матрицы ковариации C (размер n*n)\n",
    "#N-количество генерируемых векторов\n",
    "def randncor(n,N,C):\n",
    "    A=cholesky(C)\n",
    "    m=n\n",
    "    u=np.random.randn(m,N)\n",
    "    x=np.transpose(A)*u\n",
    "    return x"
   ]
  },
  {
   "cell_type": "code",
   "execution_count": 203,
   "metadata": {},
   "outputs": [
    {
     "data": {
      "text/plain": [
       "'\\nXK=np.zeros((n, M*K))\\nfor k in range(K):\\n    for i in range(M):\\n        x_ = randncor(n,1,C)\\n        XK[:n, (i-1)*K+k] = (m[:,i]+x_).ravel()\\n'"
      ]
     },
     "execution_count": 203,
     "metadata": {},
     "output_type": "execute_result"
    }
   ],
   "source": [
    "'''\n",
    "XK=np.zeros((n, M*K))\n",
    "for k in range(K):\n",
    "    for i in range(M):\n",
    "        x_ = randncor(n,1,C)\n",
    "        XK[:n, (i-1)*K+k] = (m[:,i]+x_).ravel()\n",
    "'''"
   ]
  },
  {
   "cell_type": "markdown",
   "metadata": {},
   "source": [
    "### 2. Расчет разделяющих функций и вероятностей ошибок разпознавания"
   ]
  },
  {
   "cell_type": "code",
   "execution_count": 204,
   "metadata": {
    "collapsed": true
   },
   "outputs": [],
   "source": [
    "P_err =  np.zeros((M, M))\n",
    "chernov_border =  np.zeros((M, M)) #граница Чернова\n",
    "l0 = np.zeros((M,M))"
   ]
  },
  {
   "cell_type": "code",
   "execution_count": 205,
   "metadata": {},
   "outputs": [],
   "source": [
    "from scipy.stats import norm\n",
    "for i in range(M):\n",
    "    for j in range(i+1, M):\n",
    "        dm_ij=m[:,i]-m[:,j]\n",
    "        l0[i,j]=np.log(pw[j]/pw[i])\n",
    "        det_i=np.linalg.det(C[:,:,i]) \n",
    "        det_j=np.linalg.det(C[:,:,j])\n",
    "        trace_ij=np.trace(C_[:,:,j]*C[:,:,i]-np.eye(n))\n",
    "        trace_ji=np.trace(np.eye(n)-C_[:,:,i]*C[:,:,j])\n",
    "        mg1=0.5*(trace_ij+np.transpose(dm_ij)*C_[:,:,j]*dm_ij-np.log(det_i/det_j))\n",
    "        Dg1=0.5*trace_ij**2+np.transpose(dm_ij)*C_[:,:,j]*C[:,:,i]*C_[:,:,j]*dm_ij \n",
    "        mg2=0.5*(trace_ji-np.transpose(dm_ij)*C_[:,:,i]*dm_ij+np.log(det_j/det_i))\n",
    "        Dg2=0.5*trace_ji**2+np.transpose(dm_ij)*C_[:,:,i]*C[:,:,j]*C_[:,:,i]*dm_ij\n",
    "        sD1=np.sqrt(Dg1)\n",
    "        sD2=np.sqrt(Dg2)\n",
    "        P_err[i,j]=norm.cdf(l0[i,j],mg1,sD1)\n",
    "        P_err[j,i]=1-norm.cdf(l0[i,j],mg2,sD2)\n",
    "        mu=0.125*np.transpose(dm_ij)*np.transpose(C[:,:,i]+C[:,:,j])*0.5*dm_ij+\\\n",
    "        0.5*np.log((det_i+det_j)/(2*np.sqrt(det_i*det_j))) #расстояние Бхатачария      \n",
    "        chernov_border[i,j]=np.sqrt(pw[j]/pw[i])*np.exp(-mu)\n",
    "        chernov_border[j,i]=np.sqrt(pw[i]/pw[j])*np.exp(-mu)\n",
    "    chernov_border[i,i]=1-np.sum(chernov_border[i,:])\n",
    "    P_err[i,i]=1-np.sum(P_err[i,:])"
   ]
  },
  {
   "cell_type": "code",
   "execution_count": 206,
   "metadata": {},
   "outputs": [
    {
     "name": "stdout",
     "output_type": "stream",
     "text": [
      "Теоретическая матрица вероятностей ошибок:\n",
      " [[ 0.99544  0.00456  0.     ]\n",
      " [ 0.00005  0.99985  0.0001 ]\n",
      " [ 0.       0.       1.     ]]\n",
      "Матрица вероятностей ошибок на основе границы Чернова:\n",
      " [[ 1.  0.  0.]\n",
      " [ 0.  1.  0.]\n",
      " [ 0.  0.  1.]]\n"
     ]
    }
   ],
   "source": [
    "np.set_printoptions(suppress=True)\n",
    "print('Теоретическая матрица вероятностей ошибок:\\n {0}'.format(P_err))\n",
    "\n",
    "np.set_printoptions(suppress=True)\n",
    "print('Матрица вероятностей ошибок на основе границы Чернова:\\n {0}'.format(chernov_border))"
   ]
  },
  {
   "cell_type": "markdown",
   "metadata": {},
   "source": [
    "### 3.Тестирование алгоритма методом статистических испытаний"
   ]
  },
  {
   "cell_type": "code",
   "execution_count": 207,
   "metadata": {
    "collapsed": true
   },
   "outputs": [],
   "source": [
    "#Функция для вычисления экспериментальной матрицы ошибок\n",
    "def experiment_error(K):\n",
    "    x=np.matrix(np.ones((n, 1)))\n",
    "    u=np.zeros((M, 1))\n",
    "    P_err_experiment=np.zeros((M, M)) #экспериментальная матрица ошибок\n",
    "    for k in range(K): #цикл по испытаниям\n",
    "        for i in range(M): #цикл по классам\n",
    "            x_=randncor(n, 1, C[:,:,i])\n",
    "            x+=m[:,i] #генерация образа i-го класса\n",
    "            for j in range(M): #вычисление значения разделяющих функций\n",
    "                u[j]=-0.5*np.transpose(x-m[:,j])*C_[:,:,j]*(x-m[:,j])-\\\n",
    "                0.5*np.linalg.det(C[:,:,j])+np.log(pw[j])\n",
    "            u_max=u.max() #определение максимума\n",
    "            u_max_num=np.where(u==u_max)[0]\n",
    "            P_err_experiment[i, u_max_num]+=1\n",
    "    P_err_experiment/=K\n",
    "    return P_err_experiment"
   ]
  },
  {
   "cell_type": "code",
   "execution_count": 208,
   "metadata": {},
   "outputs": [],
   "source": [
    "sample_size=[10, 100, 1000]\n",
    "errors=[experiment_error(i) for i in sample_size]"
   ]
  },
  {
   "cell_type": "code",
   "execution_count": 209,
   "metadata": {
    "scrolled": false
   },
   "outputs": [
    {
     "name": "stdout",
     "output_type": "stream",
     "text": [
      "Образов в одном классе: 10\n",
      "Экспериментальная матрица ошибок:\n",
      "[[ 0.7  0.2  0.1]\n",
      " [ 0.7  0.3  0. ]\n",
      " [ 0.8  0.   0.2]]\n",
      "\n",
      "Образов в одном классе: 100\n",
      "Экспериментальная матрица ошибок:\n",
      "[[ 0.97  0.02  0.01]\n",
      " [ 0.97  0.03  0.  ]\n",
      " [ 0.98  0.    0.02]]\n",
      "\n",
      "Образов в одном классе: 1000\n",
      "Экспериментальная матрица ошибок:\n",
      "[[ 0.997  0.002  0.001]\n",
      " [ 0.997  0.003  0.   ]\n",
      " [ 0.998  0.     0.002]]\n",
      "\n"
     ]
    }
   ],
   "source": [
    "for i in range(len(sample_size)):\n",
    "    print('Образов в одном классе: '+ format(sample_size[i]))\n",
    "    print('Экспериментальная матрица ошибок:\\n{0}\\n'.format(errors[i]))"
   ]
  },
  {
   "cell_type": "code",
   "execution_count": null,
   "metadata": {
    "collapsed": true
   },
   "outputs": [],
   "source": []
  }
 ],
 "metadata": {
  "kernelspec": {
   "display_name": "Python 3",
   "language": "python",
   "name": "python3"
  },
  "language_info": {
   "codemirror_mode": {
    "name": "ipython",
    "version": 3
   },
   "file_extension": ".py",
   "mimetype": "text/x-python",
   "name": "python",
   "nbconvert_exporter": "python",
   "pygments_lexer": "ipython3",
   "version": "3.6.1"
  }
 },
 "nbformat": 4,
 "nbformat_minor": 2
}
